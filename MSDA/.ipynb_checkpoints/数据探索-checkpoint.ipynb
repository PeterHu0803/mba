{
 "cells": [
  {
   "cell_type": "markdown",
   "metadata": {},
   "source": [
    "# 员工离职率数据分析\n",
    "\n",
    "数据来源：[Kaggle](https://www.kaggle.com/chandrilcg/hr-analytics-employee-turnover)\n",
    "\n",
    "数据格式：CSV\n",
    "\n",
    "数据描述：\n",
    "\n",
    "* satisfaction_level ： 员工的满意度水平。\n",
    "* last_evaluation：上次评估分数\n",
    "* number_project： 项目个数\n",
    "* average_montly_hours ：每月工作小时数 （monthly 是数据集笔误）\n",
    "* time_spend_company： 工作年限\n",
    "* Work_accident ：是否有工伤\n",
    "* left ：是否离职\n",
    "* promotion_last_5years： 过去5年内是否升职\n",
    "* Department ：职能部门\n",
    "* salary ：薪酬水平"
   ]
  },
  {
   "cell_type": "markdown",
   "metadata": {},
   "source": [
    "### 下载数据集\n",
    "\n",
    "点击上方kaggle链接，下载解压至本jupyter notebook所在位置   \n",
    "注意，应该是一个命名为：HR_Data_Predict Employee Turnover.csv的文件"
   ]
  },
  {
   "cell_type": "markdown",
   "metadata": {},
   "source": [
    "## 数据导入与初步概览"
   ]
  },
  {
   "cell_type": "code",
   "execution_count": null,
   "metadata": {
    "ExecuteTime": {
     "end_time": "2020-09-22T02:16:24.955462Z",
     "start_time": "2020-09-22T02:16:24.937737Z"
    }
   },
   "outputs": [],
   "source": [
    "import pandas as pd\n",
    "file = './data/HR_Data_Predict Employee Turnover.csv'\n",
    "\n",
    "df = pd.read_csv(file)"
   ]
  },
  {
   "cell_type": "code",
   "execution_count": null,
   "metadata": {
    "ExecuteTime": {
     "end_time": "2020-09-22T02:16:27.260489Z",
     "start_time": "2020-09-22T02:16:27.238459Z"
    }
   },
   "outputs": [],
   "source": [
    "df.head()"
   ]
  },
  {
   "cell_type": "code",
   "execution_count": null,
   "metadata": {
    "ExecuteTime": {
     "end_time": "2020-09-22T02:16:28.542415Z",
     "start_time": "2020-09-22T02:16:28.528848Z"
    }
   },
   "outputs": [],
   "source": [
    "df.info()"
   ]
  },
  {
   "cell_type": "code",
   "execution_count": null,
   "metadata": {
    "ExecuteTime": {
     "end_time": "2020-09-22T02:16:29.352952Z",
     "start_time": "2020-09-22T02:16:29.318143Z"
    }
   },
   "outputs": [],
   "source": [
    "df.describe()"
   ]
  },
  {
   "cell_type": "markdown",
   "metadata": {},
   "source": [
    "## Pandas 数据基本操作"
   ]
  },
  {
   "cell_type": "code",
   "execution_count": null,
   "metadata": {
    "ExecuteTime": {
     "end_time": "2020-09-22T02:16:30.384814Z",
     "start_time": "2020-09-22T02:16:30.378446Z"
    }
   },
   "outputs": [],
   "source": [
    "#列出所有列的名字\n",
    "\n",
    "df.columns"
   ]
  },
  {
   "cell_type": "code",
   "execution_count": null,
   "metadata": {
    "ExecuteTime": {
     "end_time": "2020-09-22T02:16:31.002853Z",
     "start_time": "2020-09-22T02:16:30.995524Z"
    }
   },
   "outputs": [],
   "source": [
    "# 取出特定名称的一列：\n",
    "\n",
    "df['satisfaction_level']"
   ]
  },
  {
   "cell_type": "code",
   "execution_count": null,
   "metadata": {
    "ExecuteTime": {
     "end_time": "2020-09-22T02:16:31.637310Z",
     "start_time": "2020-09-22T02:16:31.622852Z"
    }
   },
   "outputs": [],
   "source": [
    "# 取出特定名称的多列：\n",
    "\n",
    "df[['satisfaction_level','last_evaluation','left']]"
   ]
  },
  {
   "cell_type": "code",
   "execution_count": null,
   "metadata": {
    "ExecuteTime": {
     "end_time": "2020-09-22T02:16:32.389516Z",
     "start_time": "2020-09-22T02:16:32.374972Z"
    }
   },
   "outputs": [],
   "source": [
    "# 取出多行\n",
    "\n",
    "df.loc[5:9]"
   ]
  },
  {
   "cell_type": "code",
   "execution_count": null,
   "metadata": {
    "ExecuteTime": {
     "end_time": "2020-09-22T02:16:33.059371Z",
     "start_time": "2020-09-22T02:16:33.051582Z"
    }
   },
   "outputs": [],
   "source": [
    "# 取出多行，多列\n",
    "\n",
    "df.loc[5:9, ['satisfaction_level','last_evaluation','left']]"
   ]
  },
  {
   "cell_type": "code",
   "execution_count": null,
   "metadata": {
    "ExecuteTime": {
     "end_time": "2020-09-22T02:16:33.664345Z",
     "start_time": "2020-09-22T02:16:33.644789Z"
    }
   },
   "outputs": [],
   "source": [
    "# 利用条件筛选\n",
    "\n",
    "df[df['satisfaction_level'] > 0.5]"
   ]
  },
  {
   "cell_type": "code",
   "execution_count": null,
   "metadata": {
    "ExecuteTime": {
     "end_time": "2020-09-22T02:16:33.997081Z",
     "start_time": "2020-09-22T02:16:33.977953Z"
    }
   },
   "outputs": [],
   "source": [
    "# 组合条件筛选\n",
    "\n",
    "df[(df['satisfaction_level'] > 0.5) & (df['Department'] == 'technical')]"
   ]
  },
  {
   "cell_type": "code",
   "execution_count": null,
   "metadata": {
    "ExecuteTime": {
     "end_time": "2020-09-22T02:16:34.338807Z",
     "start_time": "2020-09-22T02:16:34.323158Z"
    }
   },
   "outputs": [],
   "source": [
    "new_df = df[(df['satisfaction_level'] > 0.5) & (df['Department'] == 'technical')][['last_evaluation','left']]\n",
    "new_df"
   ]
  },
  {
   "cell_type": "markdown",
   "metadata": {},
   "source": [
    "## 画图"
   ]
  },
  {
   "cell_type": "code",
   "execution_count": null,
   "metadata": {
    "ExecuteTime": {
     "end_time": "2020-09-22T02:16:35.570474Z",
     "start_time": "2020-09-22T02:16:35.276242Z"
    }
   },
   "outputs": [],
   "source": [
    "import matplotlib.pyplot as plt\n",
    "import numpy as np\n",
    "import pandas as pd\n",
    "\n",
    "%matplotlib inline"
   ]
  },
  {
   "cell_type": "markdown",
   "metadata": {},
   "source": [
    "## 工作满意度与项目个数的散点图\n",
    "- 项目多的员工满意度低；\n",
    "- 项目少的员工满意度也不高；\n",
    "- 满意度最高的员工群体是4、5个项目。"
   ]
  },
  {
   "cell_type": "code",
   "execution_count": null,
   "metadata": {
    "ExecuteTime": {
     "end_time": "2020-09-22T02:16:37.803828Z",
     "start_time": "2020-09-22T02:16:37.660378Z"
    },
    "scrolled": true
   },
   "outputs": [],
   "source": [
    "plt.figure(num=3, figsize=(8,5))\n",
    "plt.scatter(df['satisfaction_level'][:100], df['number_project'][:100], c='r' )\n",
    "plt.show()"
   ]
  },
  {
   "cell_type": "markdown",
   "metadata": {},
   "source": [
    "## 升职相关\n",
    "- 出乎意料的是，升职往往发生在新员工身上\n",
    "- 同样出乎意料，升职员工的相对工作时长并不高"
   ]
  },
  {
   "cell_type": "code",
   "execution_count": null,
   "metadata": {
    "ExecuteTime": {
     "end_time": "2020-09-22T02:16:38.642287Z",
     "start_time": "2020-09-22T02:16:38.472331Z"
    }
   },
   "outputs": [],
   "source": [
    "from mpl_toolkits.mplot3d import Axes3D\n",
    "\n",
    "# 绘制散点图\n",
    "fig = plt.figure()\n",
    "ax = Axes3D(fig)\n",
    "ax.scatter(df['average_montly_hours'][:5000], \n",
    "           df['time_spend_company'][:5000], \n",
    "           df['promotion_last_5years'][:5000])\n",
    " \n",
    " \n",
    "# 添加坐标轴(顺序是Z, Y, X)\n",
    "ax.set_zlabel('promotion_last_5years', fontdict={'size': 10, 'color': 'b'})\n",
    "ax.set_ylabel('time_spend_company', fontdict={'size': 10, 'color': 'b'})\n",
    "ax.set_xlabel('average_montly_hours', fontdict={'size': 10, 'color': 'b'})\n",
    "plt.show()\n"
   ]
  },
  {
   "cell_type": "markdown",
   "metadata": {},
   "source": [
    "## 统计每月工作小时数 (96~310)\n",
    "- 新老员工的工作时间逐渐分化\n",
    "- 新员工的工作时间比较平均，老员工逐渐出现划水与工作狂现象"
   ]
  },
  {
   "cell_type": "code",
   "execution_count": null,
   "metadata": {
    "ExecuteTime": {
     "end_time": "2020-09-22T02:16:39.858868Z",
     "start_time": "2020-09-22T02:16:39.518530Z"
    }
   },
   "outputs": [],
   "source": [
    "a1 = df[(df['time_spend_company'] < 4) & (df['Department'] == 'sales')]['average_montly_hours']\n",
    "plt.subplot(221)\n",
    "plt.hist(a1, bins = list(range(75, 325, 25)))\n",
    "plt.title(\"new salse staff\")\n",
    "\n",
    "a2 = df[(df['time_spend_company'] >= 4) & (df['Department'] == 'sales')]['average_montly_hours']\n",
    "plt.subplot(222)\n",
    "plt.hist(a2, bins = list(range(75, 325, 25)))\n",
    "plt.title(\"old salse staff\")\n",
    "\n",
    "a3 = df[(df['time_spend_company'] < 4) & (df['Department'] == 'technical')]['average_montly_hours']\n",
    "plt.subplot(223)\n",
    "plt.hist(a3, bins = list(range(75, 325, 25)))\n",
    "plt.title(\"new technical staff\")\n",
    "\n",
    "a4 = df[(df['time_spend_company'] >= 4) & (df['Department'] == 'technical')]['average_montly_hours']\n",
    "plt.subplot(224)\n",
    "plt.hist(a4, bins = list(range(75, 325, 25)))\n",
    "plt.title(\"old salse staff\")"
   ]
  },
  {
   "cell_type": "markdown",
   "metadata": {},
   "source": [
    "## 统计不同工种员工的工作年限\n",
    "- 各个工种上大体上新员工较多，工作年限比例类似\n",
    "- 相比于其他工种，sales员工工作相对更加稳定,老员工更多"
   ]
  },
  {
   "cell_type": "code",
   "execution_count": null,
   "metadata": {
    "ExecuteTime": {
     "end_time": "2020-09-22T02:16:40.832938Z",
     "start_time": "2020-09-22T02:16:40.823269Z"
    }
   },
   "outputs": [],
   "source": [
    "df['Department'].value_counts()"
   ]
  },
  {
   "cell_type": "code",
   "execution_count": null,
   "metadata": {
    "ExecuteTime": {
     "end_time": "2020-09-22T02:16:41.573140Z",
     "start_time": "2020-09-22T02:16:41.561232Z"
    }
   },
   "outputs": [],
   "source": [
    "df['time_spend_company'].value_counts()\n",
    "df[df['Department']=='sales']['time_spend_company'].value_counts()"
   ]
  },
  {
   "cell_type": "code",
   "execution_count": null,
   "metadata": {
    "ExecuteTime": {
     "end_time": "2020-09-22T02:16:42.327903Z",
     "start_time": "2020-09-22T02:16:42.169658Z"
    }
   },
   "outputs": [],
   "source": [
    "plt.subplot(221)\n",
    "labels1 = df[df['Department']=='sales']['time_spend_company'].value_counts().index\n",
    "sizes1 = df[df['Department']=='sales']['time_spend_company'].value_counts().values\n",
    "plt.pie(sizes1,labels = labels1)\n",
    "plt.title('SALES')\n",
    "\n",
    "plt.subplot(222)\n",
    "labels2 = df[df['Department']=='technical']['time_spend_company'].value_counts().index\n",
    "sizes2 = df[df['Department']=='technical']['time_spend_company'].value_counts().values\n",
    "plt.pie(sizes2,labels = labels2)\n",
    "plt.title('TECHNICAL')\n",
    "\n",
    "plt.subplot(223)\n",
    "labels3 = df[df['Department']=='support']['time_spend_company'].value_counts().index\n",
    "sizes3 = df[df['Department']=='support']['time_spend_company'].value_counts().values\n",
    "plt.pie(sizes3,labels = labels3)\n",
    "plt.title('SUPPORT')\n",
    "\n",
    "plt.subplot(224)\n",
    "labels4 = df[df['Department']=='IT']['time_spend_company'].value_counts().index\n",
    "sizes4 = df[df['Department']=='IT']['time_spend_company'].value_counts().values\n",
    "plt.pie(sizes4,labels = labels4)\n",
    "plt.title('IT')\n",
    "\n",
    "plt.show()"
   ]
  },
  {
   "cell_type": "markdown",
   "metadata": {},
   "source": [
    "## 子图的添加方法"
   ]
  },
  {
   "cell_type": "code",
   "execution_count": null,
   "metadata": {
    "ExecuteTime": {
     "end_time": "2020-09-22T02:16:44.215816Z",
     "start_time": "2020-09-22T02:16:43.901703Z"
    }
   },
   "outputs": [],
   "source": [
    "ax1=plt.subplot2grid((3,3),(0,0),colspan=3,rowspan=1)\n",
    "ax2=plt.subplot2grid((3,3),(1,0),colspan=2,rowspan=1)\n",
    "ax3=plt.subplot2grid((3,3),(1,2),colspan=1,rowspan=2)\n",
    "ax4=plt.subplot2grid((3,3),(2,0),colspan=1,rowspan=1)\n",
    "ax5=plt.subplot2grid((3,3),(2,1),colspan=1,rowspan=1)"
   ]
  },
  {
   "cell_type": "markdown",
   "metadata": {},
   "source": [
    "## seaborn的使用"
   ]
  },
  {
   "cell_type": "code",
   "execution_count": null,
   "metadata": {
    "ExecuteTime": {
     "end_time": "2020-09-22T02:16:47.141658Z",
     "start_time": "2020-09-22T02:16:46.321732Z"
    }
   },
   "outputs": [],
   "source": [
    "import seaborn as sns\n",
    "sns.set(style=\"darkgrid\")\n",
    "\n",
    "fig,ax = plt.subplots()\n",
    "ax = sns.countplot(x='left',hue='Department',data=df,ax=ax)\n",
    "for p in ax.patches:\n",
    "    percentage = '{:.2f}%'.format(p.get_height()/len(df))\n",
    "    x = p.get_x() + p.get_width()/2\n",
    "    y = p.get_y() + p.get_height() + 0.05\n",
    "    ax.annotate(percentage, (x, y))\n",
    "ax.set_title('turnover ratio')\n",
    "plt.show()"
   ]
  },
  {
   "cell_type": "markdown",
   "metadata": {},
   "source": [
    "## 离职与在职人员特征分布（三列数据可视化）\n",
    "\n",
    "刚刚我们分析了项目个数与离职的关系，其中我们提到，会不会是钱没有给够？ 我们是否可以一张图看到工资，项目个数，以及离职关系？\n",
    "\n",
    "这里我们采用violinplot 来进行分布可视化。这里x 选择工资水平，y轴选择项目个数，hue 颜色选择离职与否，并且为了节省空间，我们采用split的显示格式，也就是violin的两翼分别表示两类。"
   ]
  },
  {
   "cell_type": "code",
   "execution_count": null,
   "metadata": {
    "ExecuteTime": {
     "end_time": "2020-09-22T02:16:49.873737Z",
     "start_time": "2020-09-22T02:16:49.693423Z"
    }
   },
   "outputs": [],
   "source": [
    "fig,ax = plt.subplots()\n",
    "ax = sns.violinplot(x=\"salary\", y=\"number_project\", hue='left',data=df, ax=ax,split=True)"
   ]
  },
  {
   "cell_type": "markdown",
   "metadata": {},
   "source": [
    "可以看到，末位淘汰是很明显的。离职高管的项目个数很极端，要么很差，要么很牛。\n",
    "\n",
    "同样的我们可以画出其他特征的分布情况。\n",
    "\n",
    "两种画法(是否split）显示上次评估的与薪资以及离职的关系。"
   ]
  },
  {
   "cell_type": "code",
   "execution_count": null,
   "metadata": {
    "ExecuteTime": {
     "end_time": "2020-09-22T02:16:51.370572Z",
     "start_time": "2020-09-22T02:16:51.174874Z"
    }
   },
   "outputs": [],
   "source": [
    "fix,ax=plt.subplots()\n",
    "ax = sns.violinplot(x=\"salary\", y=\"last_evaluation\", hue='left',data=df, ax=ax,split=False)"
   ]
  },
  {
   "cell_type": "markdown",
   "metadata": {},
   "source": [
    "可以看到，每种薪资类别的离职人员都是两极化，要么评估很高，要么很低。再次说明末位淘汰在该公司应该是实行的。以及下图，可以看到各个部门的考核方式应该是类似的。"
   ]
  },
  {
   "cell_type": "code",
   "execution_count": null,
   "metadata": {
    "ExecuteTime": {
     "end_time": "2020-09-22T02:16:53.629779Z",
     "start_time": "2020-09-22T02:16:53.236435Z"
    }
   },
   "outputs": [],
   "source": [
    "fix,ax=plt.subplots(figsize=(15,5))\n",
    "ax = sns.violinplot(x=\"Department\", y=\"last_evaluation\", hue='left',data=df, ax=ax,split=False)"
   ]
  },
  {
   "cell_type": "markdown",
   "metadata": {},
   "source": [
    "## 聚类分析"
   ]
  },
  {
   "cell_type": "code",
   "execution_count": null,
   "metadata": {
    "ExecuteTime": {
     "end_time": "2020-09-22T02:17:13.079085Z",
     "start_time": "2020-09-22T02:16:55.085661Z"
    }
   },
   "outputs": [],
   "source": [
    "from sklearn.cluster import KMeans\n",
    "df = pd.read_csv(file)\n",
    "clf=KMeans(n_clusters=3) #n_clusters确定聚类类别\n",
    "data=df[df['left']==1]\n",
    "data=data[['last_evaluation', 'satisfaction_level']]\n",
    "\n",
    "clf.fit(data) #训练模型"
   ]
  },
  {
   "cell_type": "code",
   "execution_count": null,
   "metadata": {
    "ExecuteTime": {
     "end_time": "2020-09-22T02:17:13.350581Z",
     "start_time": "2020-09-22T02:17:13.081437Z"
    }
   },
   "outputs": [],
   "source": [
    "x_set=data.values\n",
    "label_clf = clf.labels_\n",
    "#获得聚类中心,保存在df_center的DataFrame中给数据加上标签\n",
    "center = clf.cluster_centers_\n",
    "print(center)\n",
    "df_center = pd.DataFrame(center, columns=['x', 'y'])\n",
    "df = pd.DataFrame(x_set, index=label_clf, columns=['x', 'y'])\n",
    "df1 = df[df.index==0]\n",
    "df2 = df[df.index==1]\n",
    "df3 = df[df.index==2]\n",
    "plt.figure(figsize=(5,5), dpi=80)\n",
    "axes = plt.subplot()\n",
    "type1 = axes.scatter(df1.loc[:,['x']], df1.loc[:,['y']], s=50, c='brown', marker='s') \n",
    "type2 = axes.scatter(df2.loc[:,['x']], df2.loc[:,['y']], s=50, c='purple', marker='s') \n",
    "type3 = axes.scatter(df3.loc[:,['x']], df3.loc[:,['y']], s=50, c='red', marker='s')\n",
    "type_center = axes.scatter(df_center.loc[:,'x'], df_center.loc[:,'y'], s=40, c='blue')\n",
    "plt.xlabel('last_evaluation', fontsize=16)\n",
    "plt.ylabel('satisfaction_level', fontsize=16)\n",
    "axes.legend((type1, type2, type3, type_center), ('0','1','2','center'), loc=1)\n",
    "plt.show()"
   ]
  },
  {
   "cell_type": "code",
   "execution_count": null,
   "metadata": {
    "ExecuteTime": {
     "end_time": "2020-09-22T02:17:13.443801Z",
     "start_time": "2020-09-22T02:17:13.353292Z"
    }
   },
   "outputs": [],
   "source": [
    "data['SER_values']=data['satisfaction_level']/data['last_evaluation']\n",
    "total=data.shape[0]\n",
    "kmodel = KMeans(n_clusters=4)\n",
    "kmodel.fit(data)\n",
    "label = pd.Series(kmodel.labels_)  # 各样本的类别\n",
    "num = pd.Series(kmodel.labels_).value_counts()  # 统计各样本对应的类别的数目\n",
    "center = pd.DataFrame(kmodel.cluster_centers_)  # 找出聚类中心  \n",
    "max = center.values.max()\n",
    "min = center.values.min()\n",
    "X = pd.concat([center, num], axis=1)  # 横向连接（0是纵向），得到聚类中心对应的类别数目  <class 'pandas.core.frame.DataFrame'>\n",
    "X.columns = list(data.columns) + ['NUM'] # 表头加上一列"
   ]
  },
  {
   "cell_type": "code",
   "execution_count": null,
   "metadata": {
    "ExecuteTime": {
     "end_time": "2020-09-22T02:17:13.663727Z",
     "start_time": "2020-09-22T02:17:13.446944Z"
    },
    "scrolled": false
   },
   "outputs": [],
   "source": [
    "fig = plt.figure(figsize=(8,8))\n",
    "ax = fig.add_subplot(111, polar=True) #polar=True 画圆形\n",
    "feature = ['satisfaction_level','last_evaluation','SER_values']\n",
    "center_num = X.values  #<class 'numpy.ndarray'>\n",
    "N = len(feature)\n",
    "angles = np.linspace(0, 2 * np.pi, N, endpoint=False)\n",
    "ax.set_thetagrids(angles * 180 / np.pi, feature, fontsize=12)\n",
    "\n",
    "for i, v in enumerate(center_num):\n",
    "    # 设置雷达图的角度，用于平分切开一个圆面\n",
    "    angles = np.linspace(0, 2 * np.pi, N, endpoint=False)\n",
    "    # 为了使雷达图一圈封闭起来，需要下面的步骤\n",
    "    center = np.concatenate((v[:-1], [v[0]]))\n",
    "    angles = np.concatenate((angles, [angles[0]]))\n",
    "    # 绘制折线图\n",
    "    ax.plot(angles, center, 'o-', linewidth=2, label=\"NO.%d = %d (%d%%)\"%(i + 1, v[-1],v[-1]*100/total))\n",
    "    # 填充颜色\n",
    "    ax.fill(angles, center, alpha=0.25)\n",
    "    # 添加每个特征的标签\n",
    "\n",
    "    # 设置雷达图的范围\n",
    "    ax.set_ylim(min - 0.1, max + 0.1)\n",
    "    # 添加标题\n",
    "    plt.title('SER_CLUSTERING', fontsize=20)\n",
    "    # 添加网格线\n",
    "    ax.grid(True)\n",
    "    # 设置图例\n",
    "    plt.legend(loc='upper right', bbox_to_anchor=(1.3, 1.0), ncol=1, fancybox=True, shadow=True)\n",
    "\n",
    "# 显示图形\n",
    "plt.show()"
   ]
  },
  {
   "cell_type": "markdown",
   "metadata": {},
   "source": [
    "## 桑基图(Sankey)介绍\n",
    "桑基图全称应该为桑基能量分流图或者桑基能量平衡图。所谓的平衡，就是输入和输出\"某种和“相等。这里的”和“可以是物理意义上的”能量“ ，也可以是普遍意义上的”总数“，比如人口流动总数，网络流量总数，航班去向总数等。\n",
    "\n",
    "作为一种可视化的方法，它可以帮我们直观的”映射“各个类别之间的关系。按照桑基图的画法，所有的类别可以分成两类：一种是source，也就是流向的起始端。一个是target，也就是流向的结束端。\n",
    "\n",
    "接下来我们先预处理一下数据，我们需要将一些数字换成有可视化意义的标签。\n",
    "- 我们对left 列的数据进行替代，将1 替换为\"left\"标签，将0 替换为\"stay\"标签\n",
    "- 同理，对\"promotion_last_5years\"列也进行类似的替换，分别为\"promoted\" 和\"no_promotion\"\n",
    "- 对于last_evaluation，我们可以划分等级：比如0:0.5：0.85:1 分别划分为low，mid和high 三个等级\n",
    "- 最后我们将我们需要展示的流向图，按照（source，target）的格式进行配对，并且放在list中。可以看到前一组的target 是下一组的source项，最后一组的target是left 列。\n",
    " - ('Department','salary'),\n",
    " - ('salary','last_evaluation'),\n",
    " - ('last_evaluation','promotion_last_5years'),\n",
    " - ('promotion_last_5years','left')\n",
    "\n",
    "通过上面的划分，我们有望看到：不同部门的人员的工资水平，不同工资水平人的上次评分水平，不同上次评分的人是否5年内晋升，5年内晋升是否影响到离职。"
   ]
  },
  {
   "cell_type": "code",
   "execution_count": null,
   "metadata": {
    "ExecuteTime": {
     "end_time": "2020-09-22T02:17:13.684489Z",
     "start_time": "2020-09-22T02:17:13.665348Z"
    }
   },
   "outputs": [],
   "source": [
    "df = pd.read_csv(file)\n",
    "df['left'].replace({0: 'stay', 1: 'left'}, inplace=True)\n",
    "df['promotion_last_5years'].replace({0: 'no_promotion', 1: 'promoted'}, inplace=True)\n",
    "df['last_evaluation'] =pd.cut(df['last_evaluation'],bins=[0,0.5,0.85,1],labels=['eval_low','eval_mid','eval_high'])\n",
    "t_list = [('Department','salary'),('salary','last_evaluation'),('last_evaluation','promotion_last_5years'),('promotion_last_5years','left')]"
   ]
  },
  {
   "cell_type": "markdown",
   "metadata": {},
   "source": [
    "数据预处理完毕后，我们需要按照sankey函数来准备关键的参数。其中最重要的就是三个参数，node的label，link的source 和target。\n",
    "\n",
    "下面是通用的函数，可以方便的将dataframe 转化成sankey需要的数据格式。\n",
    "\n",
    "函数主要思路如下：\n",
    "\n",
    "- 从dataframe中按source 和target 对提取数据\n",
    "- groupby 来获取link的value值（重命名为”value“）\n",
    "- reindex 来将source 和target 从index变成列（重命名为\"source\"和”target\")\n",
    "- 获取label\n",
    "- 将\"source\"和”target\" 中的label 数值化\n",
    "- 返回包含（\"source\"，”target\" ，“value”）三列数据的s 以及label"
   ]
  },
  {
   "cell_type": "code",
   "execution_count": null,
   "metadata": {
    "ExecuteTime": {
     "end_time": "2020-09-22T02:17:13.733063Z",
     "start_time": "2020-09-22T02:17:13.686274Z"
    }
   },
   "outputs": [],
   "source": [
    "def df_to_sankey(df,cols_tuple_list):\n",
    "    s = pd.DataFrame([])\n",
    "    for t in cols_tuple_list: # 提取source 和target 名称\n",
    "        s1 = df.groupby(by=[t[0],t[1]],axis=0).count() # groupby 得到value\n",
    "        s1 = s1.iloc[:,[0]]\n",
    "        s1.columns = ['value'] # 重命名\n",
    "        if s.shape[0]== 0:\n",
    "            s = s1\n",
    "        else:\n",
    "            s = pd.concat([s,s1],axis=0) # 按行堆砌所有的循环结果\n",
    "    s.reset_index(inplace=True) # 重置index\n",
    "    s.columns = ['source','target','value'] # 重命名\n",
    "    label_set = set(s['source'].unique()) | set(s['target'].unique()) # 获取label 列表\n",
    "    labels = {v: k for k, v in enumerate(label_set)} \n",
    "    s.replace(labels, inplace=True) # 将source 和target的label 数值化\n",
    "    return s,list(label_set)\n",
    "s,labels = df_to_sankey(df[['Department','left','salary','promotion_last_5years','last_evaluation']],t_list)"
   ]
  },
  {
   "cell_type": "markdown",
   "metadata": {},
   "source": [
    "## 画Sankey图\n",
    "帮助文件中对sankey 描述的第一句话是：Aplotly.graph_objects.Sankeytrace is a graph object in the figure'sdatalist with any of the named arguments or attributes listed below.\n",
    "\n",
    "也就是说，sankey函数要传给figure的data 参数。导入plotly.graph_objects，具体代码如下。 其中:\n",
    "\n",
    "- label 为上文中函数返回的labels，\n",
    "- source，target，value分别取s 数据中的对应列。\n"
   ]
  },
  {
   "cell_type": "code",
   "execution_count": null,
   "metadata": {
    "ExecuteTime": {
     "end_time": "2020-09-22T02:22:01.782192Z",
     "start_time": "2020-09-22T02:22:01.442961Z"
    }
   },
   "outputs": [],
   "source": [
    "import plotly.graph_objects as go\n",
    "\n",
    "fig = go.Figure(data=[go.Sankey(\n",
    "    node = dict(\n",
    "      pad = 15,\n",
    "      thickness = 20,\n",
    "      line = dict(color = \"black\", width = 0.5),\n",
    "      label = labels,\n",
    "    ),\n",
    "    link = dict(\n",
    "      source = s['source'].values,\n",
    "      target = s['target'].values,\n",
    "      value = s['value'].values\n",
    "  ))])\n",
    "\n",
    "fig.update_layout(title_text=\"Employee Turnover\", font_size=10)\n",
    "fig.show()"
   ]
  },
  {
   "cell_type": "markdown",
   "metadata": {},
   "source": [
    "上图中我们可以看到：\n",
    "\n",
    "同一级别的不同类的比例，比如：sales部分最多。工资高的人比例少，上次评估时，分数为low的人没有。五年内提升的人超级少。\n",
    "\n",
    "也可以看到不同级别流向图，比如：promoted 人离职较少（无论是绝对值还是比例）。"
   ]
  },
  {
   "cell_type": "markdown",
   "metadata": {},
   "source": [
    "## 连续型数据的可视化\n",
    "\n",
    "连续型数据的可视化主要是数据的分布，对于1维数据来说，最常见的直方图。对于时间序列来说，trend 曲线（line plot）也是常用的方法。\n",
    "\n",
    "对于2维数据来说，最常用的scatter plot，也就是分析相关性的散点图。这里我们直接用一个图来展示上述我们关心的信息，代码如下：\n",
    "\n",
    "主要采用了pairplot来显示两两特征之间的相关分布，我们将hue 设为“left” 可以通过颜色区分离职人员的分布。"
   ]
  },
  {
   "cell_type": "code",
   "execution_count": null,
   "metadata": {
    "ExecuteTime": {
     "end_time": "2020-09-22T02:17:13.816898Z",
     "start_time": "2020-09-22T02:17:12.145Z"
    }
   },
   "outputs": [],
   "source": [
    "df = pd.read_csv(file)\n",
    "sns.pairplot(df[['satisfaction_level', 'last_evaluation', 'number_project',\n",
    "       'average_montly_hours', 'time_spend_company','left']], kind=\"scatter\", hue=\"left\", palette=\"Set2\")"
   ]
  },
  {
   "cell_type": "markdown",
   "metadata": {},
   "source": [
    "我们分析“满意度”，“上次评估水平”，“项目的数量“，”平均工作时间“，以及”工龄“之间的关系，以及他们的分布对于是否离职的影响。\n",
    "\n",
    "对角线显示的是每列数据的自身的分布情况，其中绿色表示离职，橘色表示在职。其实还是可以看到每个特征，离职和在职人员的分布区别很明显。比如每个月工作时间，如果员工工作时间少（怠工），可能有离职倾向。相反的如果员工连着加班几个月，也有可能会离职。\n",
    "\n",
    "如果两两特征匹配，发现会更有意思：绿色的点（离职人员）几乎都是分布在画面的”边缘“，很”离群“。比如员工如何做了7个项目，工作时间高于300小时（传说的996 ），员工很快就离职了。"
   ]
  },
  {
   "cell_type": "markdown",
   "metadata": {},
   "source": [
    "## 练习：表格操作与统计\n",
    "\n",
    "* 项目评估分数超出全体中位数的人中，离职率有多少？\n",
    "* 离职人群与非离职人群各自统计公司满意度均值，是否有差别？\n",
    "* 离职人群与非离职人群各自统计薪酬水平（最大值、最小值、中位数）\n",
    "* 是否有人入职5年以上，且过去5年从未升职过？\n",
    "\n"
   ]
  },
  {
   "cell_type": "code",
   "execution_count": null,
   "metadata": {},
   "outputs": [],
   "source": []
  }
 ],
 "metadata": {
  "kernelspec": {
   "display_name": "Python 3",
   "language": "python",
   "name": "python3"
  },
  "language_info": {
   "codemirror_mode": {
    "name": "ipython",
    "version": 3
   },
   "file_extension": ".py",
   "mimetype": "text/x-python",
   "name": "python",
   "nbconvert_exporter": "python",
   "pygments_lexer": "ipython3",
   "version": "3.7.9"
  },
  "latex_envs": {
   "LaTeX_envs_menu_present": true,
   "autoclose": false,
   "autocomplete": true,
   "bibliofile": "biblio.bib",
   "cite_by": "apalike",
   "current_citInitial": 1,
   "eqLabelWithNumbers": true,
   "eqNumInitial": 1,
   "hotkeys": {
    "equation": "Ctrl-E",
    "itemize": "Ctrl-I"
   },
   "labels_anchors": false,
   "latex_user_defs": false,
   "report_style_numbering": false,
   "user_envs_cfg": false
  },
  "toc": {
   "base_numbering": 1,
   "nav_menu": {},
   "number_sections": true,
   "sideBar": true,
   "skip_h1_title": false,
   "title_cell": "Table of Contents",
   "title_sidebar": "Contents",
   "toc_cell": false,
   "toc_position": {},
   "toc_section_display": true,
   "toc_window_display": false
  }
 },
 "nbformat": 4,
 "nbformat_minor": 4
}
