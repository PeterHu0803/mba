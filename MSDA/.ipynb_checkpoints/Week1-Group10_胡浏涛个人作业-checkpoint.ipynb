{
 "cells": [
  {
   "cell_type": "markdown",
   "metadata": {},
   "source": [
    "# 管理科学与数据分析个人作业一\n",
    "\n",
    "# 9/10首堂课预习问题\n",
    "\n",
    "## 预习思考问题1：作为一名管理人员，为什么需要学习Python编程？\n",
    "Python应用及其广泛。作为脚本语言，Python运用极为广泛，入门简单，属于无论何种职业何种级别都应掌握的未来语言。\n",
    "Python提供的数据分析能力有助于管理层决策\n",
    "公司运营过程中各方面积累了大量的数据。传统方式需要通过战略部、决策组等团队分析数据后供管理层决策参考。由于分析人员经验不同、视野不同，分析角度各有差别，得到的结果不一定能满足决策需要。掌握Python的数据分析能力后，管理人员可自行分析源数据，精准满足自身需要。\n",
    "\n",
    "## 预习思考问题2: 从业务角度看数据分析\n",
    "### 1. 销售\n",
    "销售人员主要关注以下问题：\n",
    "\n",
    "* 潜客户哪里来<br />数据分析帮助找到产品受众的画像，帮助销售人员快速触达目标用户群体\n",
    "* 提升潜客户转化率<br />数据分析帮助分析客户需求，提供最精准的产品或服务方案\n",
    "* 提高客单价<br />数据分析提供up sales方案，帮助最大化客单价及单客利润\n",
    "### 2. 客户运营\n",
    "\n",
    "- 服务运营\n",
    "- 客服中心\n",
    "- 投诉处理\n",
    "- 数据分析帮助挖掘运营过程中各个节点的质量、流转时效、流程瓶颈，帮助提升服务品质，提升客户粘性。\n",
    "### 3. 市场营销\n",
    "\n",
    "- 活动策划与效果分析\n",
    "- 线上流量留存转化分析等等\n"
   ]
  },
  {
   "cell_type": "code",
   "execution_count": null,
   "metadata": {},
   "outputs": [],
   "source": []
  }
 ],
 "metadata": {
  "kernelspec": {
   "display_name": "Python 3",
   "language": "python",
   "name": "python3"
  },
  "language_info": {
   "codemirror_mode": {
    "name": "ipython",
    "version": 3
   },
   "file_extension": ".py",
   "mimetype": "text/x-python",
   "name": "python",
   "nbconvert_exporter": "python",
   "pygments_lexer": "ipython3",
   "version": "3.8.3"
  },
  "latex_envs": {
   "LaTeX_envs_menu_present": true,
   "autoclose": false,
   "autocomplete": true,
   "bibliofile": "biblio.bib",
   "cite_by": "apalike",
   "current_citInitial": 1,
   "eqLabelWithNumbers": true,
   "eqNumInitial": 1,
   "hotkeys": {
    "equation": "Ctrl-E",
    "itemize": "Ctrl-I"
   },
   "labels_anchors": false,
   "latex_user_defs": false,
   "report_style_numbering": false,
   "user_envs_cfg": false
  },
  "toc": {
   "base_numbering": 1,
   "nav_menu": {},
   "number_sections": true,
   "sideBar": true,
   "skip_h1_title": false,
   "title_cell": "Table of Contents",
   "title_sidebar": "Contents",
   "toc_cell": false,
   "toc_position": {},
   "toc_section_display": true,
   "toc_window_display": false
  }
 },
 "nbformat": 4,
 "nbformat_minor": 4
}
