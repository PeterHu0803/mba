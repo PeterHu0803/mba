{
 "cells": [
  {
   "cell_type": "code",
   "execution_count": 43,
   "metadata": {},
   "outputs": [],
   "source": [
    "import requests\n",
    "from bs4 import BeautifulSoup\n",
    "import csv\n",
    "\n",
    "url = 'https://www.fudan.edu.cn/489/list.htm'\n",
    "#交大的网站对我的IP拒绝访问了，只能爬负担的\n",
    "response = requests.get(url)\n",
    "html = response.content\n",
    "text = str(html,'utf-8') #utf-8解码\n",
    "\n",
    "soap = BeautifulSoup(text, 'lxml')\n",
    "#使用BS4读取数据，lxml替代html-parse\n",
    "\n",
    "content =  soap.find_all('a',attrs={'class':'sub-link','target':'_blank'})\n",
    "#获取a标签、class=sub-link，target='_blank'，去除其他内容\n",
    "\n",
    "name = [i.get_text().strip().lstrip('>') for i in content]\n",
    "#获取院系名称\n",
    "href = [i.get('href').strip() for i in content]\n",
    "#获取院系链接\n",
    "\n",
    "list = []\n",
    "for i in range(len(content)):\n",
    "    list.append([name[i],href[i]])\n",
    "# display(list)\n",
    "#检查获取结果\n",
    "\n",
    "\n",
    "with open ('./data/fudan_org.csv', 'w') as f:\n",
    "    writer = csv.writer(f,lineterminator='\\n')\n",
    "    writer.writerow(['院系名称','链接'])\n",
    "    writer.writerows(list)\n",
    "#以csv包的writerows方法写入\n",
    "\n",
    "\n",
    "# with open ('./data/fudan_org.csv', 'w') as fw:\n",
    "#     fw.write('\\t'.join('院系名称,链接'+'\\n'))\n",
    "#     for i in range(len(content)):\n",
    "#         fw.write('\\t'.join([name[i]+',', href[i]+ '\\n']))\n",
    "# #直接写入文件，csv类似txt处理，中间以\",\"隔开\n",
    "\n"
   ]
  }
 ],
 "metadata": {
  "kernelspec": {
   "display_name": "Python 3",
   "language": "python",
   "name": "python3"
  },
  "language_info": {
   "codemirror_mode": {
    "name": "ipython",
    "version": 3
   },
   "file_extension": ".py",
   "mimetype": "text/x-python",
   "name": "python",
   "nbconvert_exporter": "python",
   "pygments_lexer": "ipython3",
   "version": "3.8.3"
  }
 },
 "nbformat": 4,
 "nbformat_minor": 4
}
